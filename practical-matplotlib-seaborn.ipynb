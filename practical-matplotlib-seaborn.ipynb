{
 "cells": [
  {
   "cell_type": "markdown",
   "metadata": {},
   "source": [
    "# Load Library"
   ]
  },
  {
   "cell_type": "code",
   "execution_count": null,
   "metadata": {
    "ExecuteTime": {
     "start_time": "2018-11-09T14:10:06.576Z"
    }
   },
   "outputs": [],
   "source": [
    "import numpy as np\n",
    "\n",
    "import pandas as pd\n",
    "\n",
    "import matplotlib.pyplot as plt\n",
    "import seaborn as sns\n",
    "\n",
    "# Progress bar\n",
    "from tqdm import tqdm_notebook, trange\n",
    "\n",
    "%matplotlib inline"
   ]
  },
  {
   "cell_type": "code",
   "execution_count": null,
   "metadata": {
    "ExecuteTime": {
     "end_time": "2018-11-08T16:13:17.196729Z",
     "start_time": "2018-11-08T16:13:17.192740Z"
    }
   },
   "outputs": [],
   "source": [
    "# https://seaborn.pydata.org/generated/seaborn.set_style.html\n",
    "sns.set_style('whitegrid')"
   ]
  },
  {
   "cell_type": "code",
   "execution_count": null,
   "metadata": {
    "ExecuteTime": {
     "end_time": "2018-11-07T13:20:26.057352Z",
     "start_time": "2018-11-07T13:20:26.052838Z"
    }
   },
   "outputs": [],
   "source": [
    "# https://seaborn.pydata.org/generated/seaborn.set_context.html\n",
    "sns.set_context('notebook')"
   ]
  },
  {
   "cell_type": "markdown",
   "metadata": {},
   "source": [
    "# Basic"
   ]
  },
  {
   "cell_type": "markdown",
   "metadata": {},
   "source": [
    "## 그래프 1개"
   ]
  },
  {
   "cell_type": "code",
   "execution_count": null,
   "metadata": {
    "ExecuteTime": {
     "end_time": "2018-11-07T13:20:27.076199Z",
     "start_time": "2018-11-07T13:20:27.072210Z"
    }
   },
   "outputs": [],
   "source": [
    "x = np.linspace(-2*np.pi, 2*np.pi, 100)\n",
    "y = np.sin(x)"
   ]
  },
  {
   "cell_type": "code",
   "execution_count": null,
   "metadata": {
    "ExecuteTime": {
     "end_time": "2018-11-07T13:20:27.421290Z",
     "start_time": "2018-11-07T13:20:27.244749Z"
    }
   },
   "outputs": [],
   "source": [
    "plt.plot(x, y)"
   ]
  },
  {
   "cell_type": "markdown",
   "metadata": {},
   "source": [
    "- Palette\n",
    "  - http://colorbrewer2.org/\n",
    "  - https://color.adobe.com/ko/explore/?filter=most-popular&time=month"
   ]
  },
  {
   "cell_type": "markdown",
   "metadata": {},
   "source": [
    "### 속성 변경"
   ]
  },
  {
   "cell_type": "code",
   "execution_count": null,
   "metadata": {
    "ExecuteTime": {
     "end_time": "2018-11-05T14:15:52.552085Z",
     "start_time": "2018-11-05T14:15:52.403512Z"
    }
   },
   "outputs": [],
   "source": [
    "plt.plot(\n",
    "    x, \n",
    "    y, \n",
    "    linestyle = '-', \n",
    "    marker    = 'o',\n",
    "    color     = '#068587'\n",
    ")"
   ]
  },
  {
   "cell_type": "markdown",
   "metadata": {},
   "source": [
    "### 2종류 데이터"
   ]
  },
  {
   "cell_type": "code",
   "execution_count": null,
   "metadata": {
    "ExecuteTime": {
     "end_time": "2018-11-05T14:05:38.351008Z",
     "start_time": "2018-11-05T14:05:38.345991Z"
    }
   },
   "outputs": [],
   "source": [
    "x = np.linspace(-2*np.pi, 2*np.pi, 100)\n",
    "\n",
    "y_sin = np.sin(x)\n",
    "y_cos = np.cos(x)"
   ]
  },
  {
   "cell_type": "markdown",
   "metadata": {},
   "source": [
    "### 범례(Legend)"
   ]
  },
  {
   "cell_type": "code",
   "execution_count": null,
   "metadata": {
    "ExecuteTime": {
     "end_time": "2018-11-05T14:07:01.925456Z",
     "start_time": "2018-11-05T14:07:01.715020Z"
    }
   },
   "outputs": [],
   "source": [
    "plt.plot(x, y_sin, 'o-', label=r'$\\sin(x)$')    # $ $ 사이에는 TeX 문법을 넣을 수 있습니다.\n",
    "plt.plot(x, y_cos, 'o-', label=r'$\\cos(x)$')\n",
    "\n",
    "plt.legend()"
   ]
  },
  {
   "cell_type": "markdown",
   "metadata": {},
   "source": [
    "### 범례 위치"
   ]
  },
  {
   "cell_type": "code",
   "execution_count": null,
   "metadata": {
    "ExecuteTime": {
     "end_time": "2018-11-05T14:07:27.360421Z",
     "start_time": "2018-11-05T14:07:27.129024Z"
    }
   },
   "outputs": [],
   "source": [
    "plt.plot(x, y_sin, 'o-', label=r'$\\sin(x)$')    # $ $ 사이에는 TeX 문법을 넣을 수 있습니다.\n",
    "plt.plot(x, y_cos, 'o-', label=r'$\\cos(x)$')\n",
    "\n",
    "# https://matplotlib.org/api/_as_gen/matplotlib.pyplot.legend.html\n",
    "plt.legend(loc=1)"
   ]
  },
  {
   "cell_type": "code",
   "execution_count": null,
   "metadata": {
    "ExecuteTime": {
     "end_time": "2018-11-05T14:09:32.285267Z",
     "start_time": "2018-11-05T14:09:32.104723Z"
    }
   },
   "outputs": [],
   "source": [
    "plt.plot(x, y_sin, 'o-', label=r'$\\sin(x)$')    # $ $ 사이에는 TeX 문법을 넣을 수 있습니다.\n",
    "plt.plot(x, y_cos, 'o-', label=r'$\\cos(x)$')\n",
    "\n",
    "# https://matplotlib.org/api/_as_gen/matplotlib.pyplot.legend.html\n",
    "plt.legend(loc='upper left', bbox_to_anchor=(1.0, 1.0))"
   ]
  },
  {
   "cell_type": "markdown",
   "metadata": {},
   "source": [
    "# 그래프 2개"
   ]
  },
  {
   "cell_type": "code",
   "execution_count": null,
   "metadata": {
    "ExecuteTime": {
     "end_time": "2018-11-07T12:08:59.014008Z",
     "start_time": "2018-11-07T12:08:58.890355Z"
    }
   },
   "outputs": [],
   "source": [
    "# plt.subplots(세로 개수, 가로 개수)\n",
    "f, axarr = plt.subplots(1, 2, figsize=(12, 4), dpi=100)\n",
    "\n",
    "axarr[0].plot(x, y_sin, marker='o', linestyle='-')\n",
    "axarr[0].set_title(r'$\\sin(x)$')\n",
    "\n",
    "axarr[1].plot(x, y_cos, marker='o', linestyle='-')\n",
    "axarr[1].set_title(r'$\\cos(x)$')"
   ]
  },
  {
   "cell_type": "code",
   "execution_count": null,
   "metadata": {
    "ExecuteTime": {
     "end_time": "2018-11-05T14:19:30.004447Z",
     "start_time": "2018-11-05T14:19:29.716203Z"
    }
   },
   "outputs": [],
   "source": [
    "def draw_subplot(ax, x, y, title):\n",
    "    ax.plot(x, y, marker='o', linestyle='-')\n",
    "    ax.set_title(title)\n",
    "\n",
    "\n",
    "# plt.subplots(세로 개수, 가로 개수)\n",
    "f, axarr = plt.subplots(1, 2, figsize=(12, 4), dpi=100)\n",
    "\n",
    "draw_subplot(axarr[0], x, y_sin, r'$\\sin(x)$')\n",
    "draw_subplot(axarr[1], x, y_sin, r'$\\cos(x)$')"
   ]
  },
  {
   "cell_type": "markdown",
   "metadata": {},
   "source": [
    "# MNIST Loader"
   ]
  },
  {
   "cell_type": "code",
   "execution_count": null,
   "metadata": {
    "ExecuteTime": {
     "end_time": "2018-11-09T14:08:11.544162Z",
     "start_time": "2018-11-09T14:08:11.534187Z"
    }
   },
   "outputs": [],
   "source": [
    "def load_mnist(data_type='mnist', kind='train'):\n",
    "    \"\"\"MNIST Loader\n",
    "    \n",
    "    Args:\n",
    "        data_type (str):\n",
    "        kind (str):\n",
    "        \n",
    "    Returns:\n",
    "        images (np.array):\n",
    "        labels (np.array):\n",
    "    \n",
    "    Examples:\n",
    "        >>> train_images, train_labels = load_mnist()\n",
    "        >>> train_images, train_labels = load_mnist(data_type='fashion-mnist')\n",
    "    \"\"\"\n",
    "    import os\n",
    "    import gzip\n",
    "    import urllib.parse\n",
    "    \n",
    "    import numpy as np\n",
    "    import requests\n",
    "    \n",
    "    if data_type == 'mnist':\n",
    "        BASE_URL = 'http://yann.lecun.com/exdb/mnist/'\n",
    "    elif data_type == 'fashion-mnist':\n",
    "        BASE_URL = 'https://github.com/zalandoresearch/fashion-mnist/raw/master/data/fashion/'\n",
    "    else:\n",
    "        BASE_URL = 'https://github.com/zalandoresearch/fashion-mnist/raw/master/data/fashion/'\n",
    "\n",
    "    labels_url = urllib.parse.urljoin(BASE_URL, '%s-labels-idx1-ubyte.gz' % kind)\n",
    "    images_url = urllib.parse.urljoin(BASE_URL, '%s-images-idx3-ubyte.gz' % kind)\n",
    "    \n",
    "    # Load MNIST data from `url`\n",
    "    r_labels = requests.get(labels_url)\n",
    "    r_images = requests.get(images_url)\n",
    "    \n",
    "    blabels = gzip.decompress(r_labels.content)\n",
    "    labels  = np.frombuffer(blabels, dtype=np.uint8, offset=8)\n",
    "\n",
    "    bimages = gzip.decompress(r_images.content)\n",
    "    images  = (\n",
    "        np.frombuffer(bimages, dtype=np.uint8, offset=16)\n",
    "          .reshape(len(labels), 28, 28)\n",
    "    )\n",
    "\n",
    "    return images, labels"
   ]
  },
  {
   "cell_type": "markdown",
   "metadata": {},
   "source": [
    "# MNIST Data\n",
    "- https://en.wikipedia.org/wiki/MNIST_database"
   ]
  },
  {
   "cell_type": "markdown",
   "metadata": {},
   "source": [
    "## Load images & labels"
   ]
  },
  {
   "cell_type": "code",
   "execution_count": null,
   "metadata": {
    "ExecuteTime": {
     "end_time": "2018-11-09T14:08:32.177556Z",
     "start_time": "2018-11-09T14:08:12.331020Z"
    }
   },
   "outputs": [],
   "source": [
    "train_images, train_labels = load_mnist(data_type='mnist', kind='train')"
   ]
  },
  {
   "cell_type": "code",
   "execution_count": null,
   "metadata": {
    "ExecuteTime": {
     "end_time": "2018-11-09T14:08:32.186506Z",
     "start_time": "2018-11-09T14:08:32.179524Z"
    }
   },
   "outputs": [],
   "source": [
    "train_images.shape"
   ]
  },
  {
   "cell_type": "markdown",
   "metadata": {},
   "source": [
    "## Print image matrix\n",
    "- Number padding\n",
    "  - https://pyformat.info/"
   ]
  },
  {
   "cell_type": "code",
   "execution_count": null,
   "metadata": {
    "ExecuteTime": {
     "end_time": "2018-11-09T14:08:32.243367Z",
     "start_time": "2018-11-09T14:08:32.190496Z"
    }
   },
   "outputs": [],
   "source": [
    "for row in train_images[0]:\n",
    "    joined_str = ' '.join(['{:3d}'.format(v) for v in row])\n",
    "    print(joined_str)"
   ]
  },
  {
   "cell_type": "markdown",
   "metadata": {},
   "source": [
    "## Random images"
   ]
  },
  {
   "cell_type": "code",
   "execution_count": null,
   "metadata": {
    "ExecuteTime": {
     "end_time": "2018-11-09T14:08:32.516621Z",
     "start_time": "2018-11-09T14:08:32.245348Z"
    }
   },
   "outputs": [],
   "source": [
    "# range of random_index = [0, len(reshaped_train_images))\n",
    "random_index = np.random.randint(len(train_images))\n",
    "\n",
    "plt.imshow(train_images[random_index])"
   ]
  },
  {
   "cell_type": "markdown",
   "metadata": {},
   "source": [
    "## Change color map"
   ]
  },
  {
   "cell_type": "markdown",
   "metadata": {},
   "source": [
    "- https://matplotlib.org/tutorials/colors/colormaps.html"
   ]
  },
  {
   "cell_type": "code",
   "execution_count": null,
   "metadata": {
    "ExecuteTime": {
     "end_time": "2018-11-09T14:08:33.364611Z",
     "start_time": "2018-11-09T14:08:33.287307Z"
    }
   },
   "outputs": [],
   "source": [
    "# range of random_index = [0, len(reshaped_train_images))\n",
    "random_index = np.random.randint(len(train_images))\n",
    "\n",
    "plt.imshow(train_images[random_index], cmap='gray')\n",
    "plt.axis('off')"
   ]
  },
  {
   "cell_type": "markdown",
   "metadata": {},
   "source": [
    "### Reversed color map"
   ]
  },
  {
   "cell_type": "code",
   "execution_count": null,
   "metadata": {
    "ExecuteTime": {
     "end_time": "2018-11-09T14:09:14.346640Z",
     "start_time": "2018-11-09T14:09:14.265310Z"
    }
   },
   "outputs": [],
   "source": [
    "# range of random_index = [0, len(reshaped_train_images))\n",
    "random_index = np.random.randint(len(train_images))\n",
    "\n",
    "figure_title = 'Label: {image_label}'.format(image_label=train_labels[random_index])\n",
    "\n",
    "plt.title(figure_title, fontsize=20)\n",
    "plt.imshow(train_images[random_index], cmap='gray_r')\n",
    "plt.axis('off')"
   ]
  },
  {
   "cell_type": "markdown",
   "metadata": {},
   "source": [
    "## Random sample"
   ]
  },
  {
   "cell_type": "code",
   "execution_count": null,
   "metadata": {
    "ExecuteTime": {
     "end_time": "2018-11-09T14:08:36.108165Z",
     "start_time": "2018-11-09T14:08:36.103177Z"
    }
   },
   "outputs": [],
   "source": [
    "indexes = np.unique(np.random.choice(len(train_images), size=203))"
   ]
  },
  {
   "cell_type": "code",
   "execution_count": null,
   "metadata": {
    "ExecuteTime": {
     "end_time": "2018-11-09T14:08:36.431351Z",
     "start_time": "2018-11-09T14:08:36.426362Z"
    }
   },
   "outputs": [],
   "source": [
    "len(indexes)"
   ]
  },
  {
   "cell_type": "code",
   "execution_count": null,
   "metadata": {
    "ExecuteTime": {
     "end_time": "2018-11-09T14:08:36.704142Z",
     "start_time": "2018-11-09T14:08:36.698169Z"
    }
   },
   "outputs": [],
   "source": [
    "sampled_images = train_images[indexes]"
   ]
  },
  {
   "cell_type": "markdown",
   "metadata": {},
   "source": [
    "## Multiple plots"
   ]
  },
  {
   "cell_type": "code",
   "execution_count": null,
   "metadata": {
    "ExecuteTime": {
     "end_time": "2018-11-09T14:08:43.508883Z",
     "start_time": "2018-11-09T14:08:37.592478Z"
    }
   },
   "outputs": [],
   "source": [
    "def draw_subplot(ax, img):\n",
    "    ax.imshow(img, cmap='gray_r')\n",
    "    ax.axis('off')\n",
    "    \n",
    "\n",
    "number_of_images = len(indexes)\n",
    "\n",
    "n_cols = 10\n",
    "n_rows = int(np.ceil(number_of_images / n_cols))\n",
    "\n",
    "# Last row\n",
    "remainder = number_of_images % n_cols\n",
    "\n",
    "\n",
    "f, axarr = plt.subplots(n_rows, n_cols, figsize=(15,15), dpi=100)\n",
    "\n",
    "\n",
    "for i in tqdm_notebook(range(number_of_images)):\n",
    "    pos_y, pos_x = divmod(i, n_cols)\n",
    "    draw_subplot(axarr[pos_y, pos_x], sampled_images[i])\n",
    "\n",
    "for j in range(number_of_images, n_rows*n_cols):\n",
    "    pos_y, pos_x = divmod(j, n_cols)\n",
    "    axarr[pos_y, pos_x].axis('off')"
   ]
  },
  {
   "cell_type": "markdown",
   "metadata": {},
   "source": [
    "# Fashion MNIST Data"
   ]
  },
  {
   "cell_type": "markdown",
   "metadata": {},
   "source": [
    "## Load Data"
   ]
  },
  {
   "cell_type": "code",
   "execution_count": null,
   "metadata": {
    "ExecuteTime": {
     "end_time": "2018-11-07T13:22:08.936485Z",
     "start_time": "2018-11-07T13:21:56.092850Z"
    }
   },
   "outputs": [],
   "source": [
    "train_images, train_labels = load_mnist(data_type='fashion', kind='train')"
   ]
  },
  {
   "cell_type": "markdown",
   "metadata": {},
   "source": [
    "## Random Sample"
   ]
  },
  {
   "cell_type": "code",
   "execution_count": null,
   "metadata": {
    "ExecuteTime": {
     "end_time": "2018-11-07T13:22:08.943467Z",
     "start_time": "2018-11-07T13:22:08.939477Z"
    }
   },
   "outputs": [],
   "source": [
    "indexes = np.unique(np.random.choice(len(train_images), size=203))"
   ]
  },
  {
   "cell_type": "code",
   "execution_count": null,
   "metadata": {
    "ExecuteTime": {
     "end_time": "2018-11-07T13:54:15.141187Z",
     "start_time": "2018-11-07T13:54:15.137220Z"
    }
   },
   "outputs": [],
   "source": [
    "sampled_images = train_images[indexes]"
   ]
  },
  {
   "cell_type": "markdown",
   "metadata": {},
   "source": [
    "- Label info\n",
    "  - https://github.com/zalandoresearch/fashion-mnist#labels"
   ]
  },
  {
   "cell_type": "code",
   "execution_count": null,
   "metadata": {
    "ExecuteTime": {
     "end_time": "2018-11-07T13:22:08.969397Z",
     "start_time": "2018-11-07T13:22:08.959428Z"
    }
   },
   "outputs": [],
   "source": [
    "sampled_labels = train_labels[indexes]"
   ]
  },
  {
   "cell_type": "markdown",
   "metadata": {},
   "source": [
    "## Draw images"
   ]
  },
  {
   "cell_type": "code",
   "execution_count": null,
   "metadata": {
    "ExecuteTime": {
     "end_time": "2018-11-07T13:54:35.881430Z",
     "start_time": "2018-11-07T13:54:25.997486Z"
    }
   },
   "outputs": [],
   "source": [
    "def draw_subplot(ax, img, title):\n",
    "    ax.set_title(title, fontsize=10)\n",
    "    ax.imshow(img, cmap='gray_r')\n",
    "    ax.axis('off')\n",
    "    \n",
    "\n",
    "number_of_images = len(indexes)\n",
    "\n",
    "n_cols = 10\n",
    "n_rows = int(np.ceil(number_of_images / n_cols))\n",
    "\n",
    "# Last row\n",
    "remainder = number_of_images % n_cols\n",
    "\n",
    "\n",
    "f, axarr = plt.subplots(n_rows, n_cols, figsize=(15,15), dpi=100)\n",
    "\n",
    "\n",
    "for i in tqdm_notebook(range(number_of_images)):\n",
    "    pos_y, pos_x = divmod(i, n_cols)\n",
    "    draw_subplot(axarr[pos_y, pos_x], sampled_images[i], sampled_labels[i])\n",
    "\n",
    "for j in range(number_of_images, n_rows*n_cols):\n",
    "    pos_y, pos_x = divmod(j, n_cols)\n",
    "    axarr[pos_y, pos_x].axis('off')"
   ]
  },
  {
   "cell_type": "markdown",
   "metadata": {},
   "source": [
    "# iris\n",
    "- R. A. Fisher 의 붓꽃 데이터"
   ]
  },
  {
   "cell_type": "markdown",
   "metadata": {},
   "source": [
    "## Load Data"
   ]
  },
  {
   "cell_type": "code",
   "execution_count": null,
   "metadata": {
    "ExecuteTime": {
     "end_time": "2018-11-08T16:13:17.328380Z",
     "start_time": "2018-11-08T16:13:17.199724Z"
    }
   },
   "outputs": [],
   "source": [
    "df = pd.read_csv('http://danielykim.me/data/iris.csv')"
   ]
  },
  {
   "cell_type": "markdown",
   "metadata": {},
   "source": [
    "## seaborn Pairplot\n",
    "- https://seaborn.pydata.org/generated/seaborn.pairplot.html"
   ]
  },
  {
   "cell_type": "code",
   "execution_count": null,
   "metadata": {
    "ExecuteTime": {
     "end_time": "2018-11-08T16:13:20.121944Z",
     "start_time": "2018-11-08T16:13:18.033504Z"
    }
   },
   "outputs": [],
   "source": [
    "sns.pairplot(df, hue='species')"
   ]
  },
  {
   "cell_type": "markdown",
   "metadata": {},
   "source": [
    "# 더 보기\n",
    "- matplotlib pyplot official tutorial\n",
    "  - https://matplotlib.org/tutorials/introductory/pyplot.html\n",
    "- seaborn official tutorial\n",
    "  - https://seaborn.pydata.org/tutorial.html\n",
    "- Python reusable graph gallery\n",
    "  - https://python-graph-gallery.com/"
   ]
  }
 ],
 "metadata": {
  "kernelspec": {
   "display_name": "Python 3",
   "language": "python",
   "name": "python3"
  },
  "language_info": {
   "codemirror_mode": {
    "name": "ipython",
    "version": 3
   },
   "file_extension": ".py",
   "mimetype": "text/x-python",
   "name": "python",
   "nbconvert_exporter": "python",
   "pygments_lexer": "ipython3",
   "version": "3.7.0"
  },
  "toc": {
   "base_numbering": 1,
   "nav_menu": {},
   "number_sections": true,
   "sideBar": true,
   "skip_h1_title": false,
   "title_cell": "Table of Contents",
   "title_sidebar": "Contents",
   "toc_cell": false,
   "toc_position": {},
   "toc_section_display": true,
   "toc_window_display": true
  }
 },
 "nbformat": 4,
 "nbformat_minor": 2
}
