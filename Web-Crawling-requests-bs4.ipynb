{
 "cells": [
  {
   "cell_type": "markdown",
   "metadata": {},
   "source": [
    "# Load Library"
   ]
  },
  {
   "cell_type": "code",
   "execution_count": 1,
   "metadata": {
    "ExecuteTime": {
     "end_time": "2018-11-05T12:54:13.156560Z",
     "start_time": "2018-11-05T12:54:12.562116Z"
    }
   },
   "outputs": [],
   "source": [
    "# one of the Standard Libraries\n",
    "import time\n",
    "\n",
    "# Requests: HTTP for Humans™\n",
    "import requests\n",
    "\n",
    "# BeautifulSoup4\n",
    "from bs4 import BeautifulSoup as BS\n",
    "# tqdm: tidy progress bar\n",
    "from tqdm import tqdm_notebook, tqdm"
   ]
  },
  {
   "cell_type": "code",
   "execution_count": null,
   "metadata": {
    "ExecuteTime": {
     "end_time": "2018-11-04T12:09:02.248137Z",
     "start_time": "2018-11-04T12:09:02.245160Z"
    }
   },
   "outputs": [],
   "source": [
    "import bs4"
   ]
  },
  {
   "cell_type": "code",
   "execution_count": null,
   "metadata": {
    "ExecuteTime": {
     "end_time": "2018-11-04T12:09:05.267062Z",
     "start_time": "2018-11-04T12:09:05.255094Z"
    }
   },
   "outputs": [],
   "source": [
    "bs4.__version__"
   ]
  },
  {
   "cell_type": "code",
   "execution_count": null,
   "metadata": {
    "ExecuteTime": {
     "end_time": "2018-11-04T12:09:20.065478Z",
     "start_time": "2018-11-04T12:09:20.059495Z"
    }
   },
   "outputs": [],
   "source": [
    "requests.__version__"
   ]
  },
  {
   "cell_type": "markdown",
   "metadata": {},
   "source": [
    "# 데이터 가져오기"
   ]
  },
  {
   "cell_type": "code",
   "execution_count": null,
   "metadata": {
    "ExecuteTime": {
     "end_time": "2018-11-04T12:13:26.032554Z",
     "start_time": "2018-11-04T12:13:25.911877Z"
    }
   },
   "outputs": [],
   "source": [
    "url = 'https://www.samsungsds.com/global/ko/index.html'\n",
    "\n",
    "# Proxy setting\n",
    "# http://docs.python-requests.org/en/master/user/advanced/#proxies\n",
    "r = requests.get(url)"
   ]
  },
  {
   "cell_type": "markdown",
   "metadata": {},
   "source": [
    "# 파일로 저장하기"
   ]
  },
  {
   "cell_type": "code",
   "execution_count": null,
   "metadata": {
    "ExecuteTime": {
     "end_time": "2018-11-04T12:14:57.456011Z",
     "start_time": "2018-11-04T12:14:57.420106Z"
    }
   },
   "outputs": [],
   "source": [
    "html_file_path = 'tmp.html'\n",
    "\n",
    "with open(html_file_path, 'wb') as html_file:\n",
    "    html_file.write(r.content)"
   ]
  },
  {
   "cell_type": "markdown",
   "metadata": {},
   "source": [
    "# 데이터 파싱하기"
   ]
  },
  {
   "cell_type": "code",
   "execution_count": null,
   "metadata": {
    "ExecuteTime": {
     "end_time": "2018-11-04T12:16:49.135896Z",
     "start_time": "2018-11-04T12:16:49.121932Z"
    }
   },
   "outputs": [],
   "source": [
    "# parser = `lxml` library\n",
    "html_BS = BS(r.content, 'lxml')"
   ]
  },
  {
   "cell_type": "code",
   "execution_count": null,
   "metadata": {
    "ExecuteTime": {
     "end_time": "2018-11-04T12:18:09.922802Z",
     "start_time": "2018-11-04T12:18:09.916818Z"
    }
   },
   "outputs": [],
   "source": [
    "div_industry_BS = html_BS.find(\n",
    "    'div', \n",
    "    attrs={\n",
    "        'class' : 'box type3_3',\n",
    "        'data-section': 'industry'\n",
    "    }\n",
    ")"
   ]
  },
  {
   "cell_type": "code",
   "execution_count": null,
   "metadata": {
    "ExecuteTime": {
     "end_time": "2018-11-04T12:23:32.049164Z",
     "start_time": "2018-11-04T12:23:32.045174Z"
    }
   },
   "outputs": [],
   "source": [
    "sol_list_BS = div_industry_BS.find(\n",
    "    'ul',\n",
    "    attrs={\n",
    "        'class' : 'sol_list'\n",
    "    }\n",
    ")"
   ]
  },
  {
   "cell_type": "code",
   "execution_count": null,
   "metadata": {
    "ExecuteTime": {
     "end_time": "2018-11-04T12:26:10.295881Z",
     "start_time": "2018-11-04T12:26:10.293894Z"
    }
   },
   "outputs": [],
   "source": [
    "li_BS_list = sol_list_BS.find_all('li')"
   ]
  },
  {
   "cell_type": "code",
   "execution_count": null,
   "metadata": {
    "ExecuteTime": {
     "end_time": "2018-11-04T12:27:24.111432Z",
     "start_time": "2018-11-04T12:27:24.102456Z"
    }
   },
   "outputs": [],
   "source": [
    "span_BS_list = div_industry_BS.find_all(\n",
    "    'span', \n",
    "    attrs={'class':'txt'}\n",
    ") \n",
    "\n",
    "industry_list = [ \n",
    "    (\n",
    "        li_BS.find('span', attrs={'class':'txt'}).text, \n",
    "        li_BS.find('a')['href']\n",
    "    )\n",
    "    for li_BS in li_BS_list \n",
    "]"
   ]
  },
  {
   "cell_type": "code",
   "execution_count": null,
   "metadata": {
    "ExecuteTime": {
     "end_time": "2018-11-04T12:27:24.702851Z",
     "start_time": "2018-11-04T12:27:24.697864Z"
    }
   },
   "outputs": [],
   "source": [
    "industry_list"
   ]
  },
  {
   "cell_type": "code",
   "execution_count": null,
   "metadata": {
    "ExecuteTime": {
     "end_time": "2018-11-04T12:30:30.649465Z",
     "start_time": "2018-11-04T12:30:30.645486Z"
    }
   },
   "outputs": [],
   "source": [
    "industry_names, industry_links = [ list(l) for l in zip(*industry_list)]"
   ]
  },
  {
   "cell_type": "code",
   "execution_count": null,
   "metadata": {
    "ExecuteTime": {
     "end_time": "2018-11-04T12:30:31.070326Z",
     "start_time": "2018-11-04T12:30:31.065362Z"
    }
   },
   "outputs": [],
   "source": [
    "industry_names"
   ]
  },
  {
   "cell_type": "code",
   "execution_count": null,
   "metadata": {
    "ExecuteTime": {
     "end_time": "2018-11-04T12:30:31.931019Z",
     "start_time": "2018-11-04T12:30:31.926061Z"
    }
   },
   "outputs": [],
   "source": [
    "industry_links"
   ]
  },
  {
   "cell_type": "code",
   "execution_count": null,
   "metadata": {
    "ExecuteTime": {
     "end_time": "2018-11-04T12:41:17.329677Z",
     "start_time": "2018-11-04T12:41:17.325687Z"
    }
   },
   "outputs": [],
   "source": [
    "BASE_URL = 'https://www.samsungsds.com'\n",
    "\n",
    "\n",
    "def save_html_file(sub_url):\n",
    "    url = '{BASE_URL}{sub_url}'.format(\n",
    "        BASE_URL = BASE_URL,\n",
    "        sub_url  = sub_url\n",
    "    )\n",
    "    \n",
    "    r = requests.get(url)\n",
    "    \n",
    "    html_file_path = url.split('/')[-1]\n",
    "    \n",
    "    with open(html_file_path, 'wb') as html_file:\n",
    "        html_file.write(r.content)"
   ]
  },
  {
   "cell_type": "code",
   "execution_count": null,
   "metadata": {
    "ExecuteTime": {
     "end_time": "2018-11-04T12:47:35.983833Z",
     "start_time": "2018-11-04T12:47:35.410367Z"
    },
    "scrolled": true
   },
   "outputs": [],
   "source": [
    "for sub_url in tqdm_notebook(industry_links):\n",
    "    save_html_file(sub_url)\n",
    "    #time.sleep(0.5)"
   ]
  },
  {
   "cell_type": "code",
   "execution_count": null,
   "metadata": {
    "ExecuteTime": {
     "end_time": "2018-11-04T12:53:28.528868Z",
     "start_time": "2018-11-04T12:53:28.408152Z"
    }
   },
   "outputs": [],
   "source": [
    "# to remove html files\n",
    "!rm *.html"
   ]
  },
  {
   "cell_type": "markdown",
   "metadata": {},
   "source": [
    "# Multithreading\n",
    "- https://github.com/brianjp93/Multiprocessing-tuts/blob/master/Multiprocessing%20and%20Multithreading.ipynb\n",
    "- https://docs.python.org/3/library/multiprocessing.html#using-a-pool-of-workers"
   ]
  },
  {
   "cell_type": "code",
   "execution_count": null,
   "metadata": {
    "ExecuteTime": {
     "end_time": "2018-11-04T12:43:37.356130Z",
     "start_time": "2018-11-04T12:43:37.295291Z"
    }
   },
   "outputs": [],
   "source": [
    "from multiprocessing.dummy import Pool as ThreadPool"
   ]
  },
  {
   "cell_type": "code",
   "execution_count": null,
   "metadata": {
    "ExecuteTime": {
     "end_time": "2018-11-04T12:53:22.087101Z",
     "start_time": "2018-11-04T12:53:21.879624Z"
    }
   },
   "outputs": [],
   "source": [
    "with ThreadPool(4) as pool:\n",
    "    results = pool.map(save_html_file, industry_links)"
   ]
  },
  {
   "cell_type": "markdown",
   "metadata": {},
   "source": [
    "# Documentation\n",
    "- BeautifulSoup4\n",
    "  - https://www.crummy.com/software/BeautifulSoup/bs4/doc/\n",
    "- requests\n",
    "  - http://docs.python-requests.org/en/master/"
   ]
  },
  {
   "cell_type": "markdown",
   "metadata": {},
   "source": [
    "# wikipedia\n",
    "```bash\n",
    "pip install wikipedia\n",
    "```\n",
    "- https://wikipedia.readthedocs.io/en/latest/"
   ]
  },
  {
   "cell_type": "code",
   "execution_count": 2,
   "metadata": {
    "ExecuteTime": {
     "end_time": "2018-11-05T12:56:18.530172Z",
     "start_time": "2018-11-05T12:56:18.519200Z"
    }
   },
   "outputs": [],
   "source": [
    "import wikipedia"
   ]
  },
  {
   "cell_type": "code",
   "execution_count": 4,
   "metadata": {
    "ExecuteTime": {
     "end_time": "2018-11-05T12:56:36.273742Z",
     "start_time": "2018-11-05T12:56:32.909710Z"
    }
   },
   "outputs": [
    {
     "data": {
      "text/plain": [
       "'Wikipedia ( ( listen),  ( listen) WIK-ih-PEE-dee-ə) is a multilingual, web-based, free encyclopedia based on a model of openly editable content, a wiki. It is the largest and most popular general reference work on the World Wide Web, and is one of the most popular websites by Alexa rank. It is owned and supported by the Wikimedia Foundation, a non-profit organization which operates on money it receives from donors.Wikipedia was launched on January 15, 2001, by Jimmy Wales and Larry Sanger. Sanger coined its name, as a portmanteau of wiki and \"encyclopedia\". Initially an English-language encyclopedia, versions in other languages were quickly developed. With 5,746,095 articles, the English Wikipedia is the largest of the more than 290 Wikipedia encyclopedias. Overall, Wikipedia comprises more than 40 million articles in 301 different languages and by February 2014 it had reached 18 billion page views and nearly 500 million unique visitors per month.In 2005, Nature published a peer review comparing 42 science articles from Encyclopædia Britannica and Wikipedia and found that Wikipedia\\'s level of accuracy approached that of Britannica. Time magazine stated that the open-door policy of allowing anyone to edit had made Wikipedia the biggest and possibly the best encyclopedia in the world and it was testament to the vision of Jimmy Wales.Wikipedia has been criticized for exhibiting systemic bias, for presenting a mixture of \"truths, half truths, and some falsehoods\", and for being subject to manipulation and spin in controversial topics. In 2017, Facebook announced that it would help readers detect fake news by suitable links to Wikipedia articles. YouTube announced a similar plan in 2018. In response, The Washington Post headlined, \"Wikipedia, the \\'good cop\\' of the Internet\".'"
      ]
     },
     "execution_count": 4,
     "metadata": {},
     "output_type": "execute_result"
    }
   ],
   "source": [
    "wikipedia.summary('Wikipedia')"
   ]
  },
  {
   "cell_type": "code",
   "execution_count": 5,
   "metadata": {
    "ExecuteTime": {
     "end_time": "2018-11-05T12:56:54.238656Z",
     "start_time": "2018-11-05T12:56:52.616024Z"
    }
   },
   "outputs": [
    {
     "data": {
      "text/plain": [
       "['New York',\n",
       " 'New York City',\n",
       " 'New York (state)',\n",
       " 'New York Yankees',\n",
       " 'New York, New York (disambiguation)',\n",
       " 'New York Giants',\n",
       " 'New York Mets',\n",
       " 'Gangs of New York',\n",
       " 'The New York Times',\n",
       " 'New York metropolitan area']"
      ]
     },
     "execution_count": 5,
     "metadata": {},
     "output_type": "execute_result"
    }
   ],
   "source": [
    "wikipedia.search('New York')"
   ]
  },
  {
   "cell_type": "code",
   "execution_count": 11,
   "metadata": {
    "ExecuteTime": {
     "end_time": "2018-11-05T12:58:33.388479Z",
     "start_time": "2018-11-05T12:58:31.080618Z"
    }
   },
   "outputs": [],
   "source": [
    "ny = wikipedia.page('New York City')"
   ]
  },
  {
   "cell_type": "code",
   "execution_count": 12,
   "metadata": {
    "ExecuteTime": {
     "end_time": "2018-11-05T12:58:36.489154Z",
     "start_time": "2018-11-05T12:58:36.483168Z"
    }
   },
   "outputs": [
    {
     "data": {
      "text/plain": [
       "'New York City'"
      ]
     },
     "execution_count": 12,
     "metadata": {},
     "output_type": "execute_result"
    }
   ],
   "source": [
    "ny.title"
   ]
  },
  {
   "cell_type": "code",
   "execution_count": 13,
   "metadata": {
    "ExecuteTime": {
     "end_time": "2018-11-05T12:58:43.762712Z",
     "start_time": "2018-11-05T12:58:43.757737Z"
    }
   },
   "outputs": [
    {
     "data": {
      "text/plain": [
       "'https://en.wikipedia.org/wiki/New_York_City'"
      ]
     },
     "execution_count": 13,
     "metadata": {},
     "output_type": "execute_result"
    }
   ],
   "source": [
    "ny.url"
   ]
  },
  {
   "cell_type": "code",
   "execution_count": null,
   "metadata": {},
   "outputs": [],
   "source": [
    "ny.content"
   ]
  },
  {
   "cell_type": "code",
   "execution_count": 16,
   "metadata": {
    "ExecuteTime": {
     "end_time": "2018-11-05T12:59:32.541223Z",
     "start_time": "2018-11-05T12:59:32.536234Z"
    }
   },
   "outputs": [
    {
     "data": {
      "text/plain": [
       "'10 Hudson Yards'"
      ]
     },
     "execution_count": 16,
     "metadata": {},
     "output_type": "execute_result"
    }
   ],
   "source": [
    "ny.links[0]"
   ]
  },
  {
   "cell_type": "markdown",
   "metadata": {},
   "source": [
    "# newspaper3k\n",
    "```bash\n",
    "pip3 install newspaper3k\n",
    "```\n",
    "- https://pypi.org/project/newspaper3k/\n",
    "  - 한글도 지원됩니다."
   ]
  },
  {
   "cell_type": "code",
   "execution_count": 18,
   "metadata": {
    "ExecuteTime": {
     "end_time": "2018-11-05T13:01:51.484103Z",
     "start_time": "2018-11-05T13:01:50.663328Z"
    }
   },
   "outputs": [],
   "source": [
    "from newspaper import Article"
   ]
  },
  {
   "cell_type": "code",
   "execution_count": 19,
   "metadata": {
    "ExecuteTime": {
     "end_time": "2018-11-05T13:02:12.765183Z",
     "start_time": "2018-11-05T13:02:12.761190Z"
    }
   },
   "outputs": [],
   "source": [
    "url = 'http://fox13now.com/2013/12/30/new-year-new-laws-obamacare-pot-guns-and-drones/'\n",
    "\n",
    "article = Article(url)"
   ]
  },
  {
   "cell_type": "code",
   "execution_count": 20,
   "metadata": {
    "ExecuteTime": {
     "end_time": "2018-11-05T13:02:19.539065Z",
     "start_time": "2018-11-05T13:02:18.778098Z"
    }
   },
   "outputs": [],
   "source": [
    "article.download()"
   ]
  },
  {
   "cell_type": "code",
   "execution_count": null,
   "metadata": {},
   "outputs": [],
   "source": [
    "article.html"
   ]
  },
  {
   "cell_type": "code",
   "execution_count": 22,
   "metadata": {
    "ExecuteTime": {
     "end_time": "2018-11-05T13:02:42.536545Z",
     "start_time": "2018-11-05T13:02:42.360017Z"
    }
   },
   "outputs": [],
   "source": [
    "article.parse()"
   ]
  },
  {
   "cell_type": "code",
   "execution_count": 23,
   "metadata": {
    "ExecuteTime": {
     "end_time": "2018-11-05T13:02:48.566416Z",
     "start_time": "2018-11-05T13:02:48.561429Z"
    }
   },
   "outputs": [
    {
     "data": {
      "text/plain": [
       "['Cnn Wire']"
      ]
     },
     "execution_count": 23,
     "metadata": {},
     "output_type": "execute_result"
    }
   ],
   "source": [
    "article.authors"
   ]
  },
  {
   "cell_type": "code",
   "execution_count": 24,
   "metadata": {
    "ExecuteTime": {
     "end_time": "2018-11-05T13:02:54.011850Z",
     "start_time": "2018-11-05T13:02:54.006867Z"
    }
   },
   "outputs": [
    {
     "data": {
      "text/plain": [
       "datetime.datetime(2013, 12, 30, 0, 0)"
      ]
     },
     "execution_count": 24,
     "metadata": {},
     "output_type": "execute_result"
    }
   ],
   "source": [
    "article.publish_date"
   ]
  },
  {
   "cell_type": "code",
   "execution_count": 25,
   "metadata": {
    "ExecuteTime": {
     "end_time": "2018-11-05T13:03:02.028407Z",
     "start_time": "2018-11-05T13:03:02.023421Z"
    }
   },
   "outputs": [
    {
     "data": {
      "text/plain": [
       "'https://localtvkstu.files.wordpress.com/2012/04/national-news-e1486938949489.jpg?quality=85&strip=all'"
      ]
     },
     "execution_count": 25,
     "metadata": {},
     "output_type": "execute_result"
    }
   ],
   "source": [
    "article.top_image"
   ]
  },
  {
   "cell_type": "code",
   "execution_count": 27,
   "metadata": {
    "ExecuteTime": {
     "end_time": "2018-11-05T13:03:41.294405Z",
     "start_time": "2018-11-05T13:03:38.710289Z"
    }
   },
   "outputs": [
    {
     "name": "stdout",
     "output_type": "stream",
     "text": [
      "[nltk_data] Downloading package punkt to\n",
      "[nltk_data]     C:\\Users\\clear\\AppData\\Roaming\\nltk_data...\n",
      "[nltk_data]   Unzipping tokenizers\\punkt.zip.\n"
     ]
    },
    {
     "data": {
      "text/plain": [
       "True"
      ]
     },
     "execution_count": 27,
     "metadata": {},
     "output_type": "execute_result"
    }
   ],
   "source": [
    "import nltk\n",
    "nltk.download('punkt')"
   ]
  },
  {
   "cell_type": "code",
   "execution_count": 28,
   "metadata": {
    "ExecuteTime": {
     "end_time": "2018-11-05T13:03:44.787070Z",
     "start_time": "2018-11-05T13:03:44.771078Z"
    }
   },
   "outputs": [],
   "source": [
    "article.nlp()"
   ]
  },
  {
   "cell_type": "code",
   "execution_count": 29,
   "metadata": {
    "ExecuteTime": {
     "end_time": "2018-11-05T13:03:49.763722Z",
     "start_time": "2018-11-05T13:03:49.756782Z"
    }
   },
   "outputs": [
    {
     "data": {
      "text/plain": [
       "['state',\n",
       " 'states',\n",
       " 'laws',\n",
       " 'latest',\n",
       " 'obamacare',\n",
       " 'minimum',\n",
       " 'pot',\n",
       " 'drones',\n",
       " 'leave',\n",
       " 'wage',\n",
       " 'law',\n",
       " 'national',\n",
       " 'family',\n",
       " 'guns']"
      ]
     },
     "execution_count": 29,
     "metadata": {},
     "output_type": "execute_result"
    }
   ],
   "source": [
    "article.keywords"
   ]
  },
  {
   "cell_type": "markdown",
   "metadata": {},
   "source": [
    "# 더 보기\n",
    "- https://pypi.org/project/Scrapy/"
   ]
  }
 ],
 "metadata": {
  "kernelspec": {
   "display_name": "Python 3",
   "language": "python",
   "name": "python3"
  },
  "language_info": {
   "codemirror_mode": {
    "name": "ipython",
    "version": 3
   },
   "file_extension": ".py",
   "mimetype": "text/x-python",
   "name": "python",
   "nbconvert_exporter": "python",
   "pygments_lexer": "ipython3",
   "version": "3.7.0"
  },
  "toc": {
   "base_numbering": 1,
   "nav_menu": {},
   "number_sections": true,
   "sideBar": true,
   "skip_h1_title": false,
   "title_cell": "Table of Contents",
   "title_sidebar": "Contents",
   "toc_cell": false,
   "toc_position": {
    "height": "calc(100% - 180px)",
    "left": "10px",
    "top": "150px",
    "width": "307.2px"
   },
   "toc_section_display": true,
   "toc_window_display": true
  }
 },
 "nbformat": 4,
 "nbformat_minor": 2
}
